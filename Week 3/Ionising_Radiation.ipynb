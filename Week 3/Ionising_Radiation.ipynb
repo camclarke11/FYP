{
 "cells": [
  {
   "cell_type": "markdown",
   "metadata": {},
   "source": [
    "# Analysis of Ionizing Radiation Detection Data Using Linear Regression\n",
    "\n",
    "## Introduction\n",
    "\n",
    "This notebook guides you through the process of analyzing data from an Ionizing Radiation experiment, focusing on verifying the inverse square law. The analysis includes correcting for background radiation, fitting a linear model to the inverse square of distances versus count rates, visualizing this relationship, and interpreting the statistical significance.\n"
   ]
  },
  {
   "cell_type": "code",
   "execution_count": 13,
   "metadata": {},
   "outputs": [],
   "source": [
    "import numpy as np\n",
    "import matplotlib.pyplot as plt\n",
    "from scipy.stats import linregress\n",
    "\n",
    "# Data\n",
    "distances_m = np.array([0.153, 0.135, 0.115, 0.095, 0.075, 0.055, 0.035])\n",
    "counts_in_60s = np.array([3078, 4211, 4996, 6799, 10218, 15924, 32831])\n",
    "\n",
    "# Assuming background counts obtained from a separate part of the experiment\n",
    "background_counts = 60  # Total background counts in 60 seconds\n",
    "\n",
    "# Calculating count rates (counts per second) and correcting for background radiation\n",
    "background_rate = background_counts / 60  # Background count rate (counts/s)\n",
    "count_rates = (counts_in_60s / 60) - background_rate\n",
    "\n",
    "# Calculating inverse square of distances\n",
    "inverse_square_distance = 1 / distances_m**2\n"
   ]
  },
  {
   "cell_type": "markdown",
   "metadata": {},
   "source": [
    "## Background Radiation Correction\n",
    "\n",
    "Correction for background radiation is crucial for accurate measurements. It ensures that counts attributed solely to the experiment's radiation source are analyzed, excluding ambient radiation that could skew results.\n"
   ]
  },
  {
   "cell_type": "code",
   "execution_count": null,
   "metadata": {},
   "outputs": [],
   "source": [
    "# Perform linear regression\n",
    "slope, intercept, r_value, p_value, std_err = linregress(inverse_square_distance, count_rates)\n",
    "\n",
    "# Visualization\n",
    "plt.figure(figsize=(8, 6))\n",
    "plt.plot(inverse_square_distance, count_rates, 'o', label='Original data', markersize=10)\n",
    "plt.plot(inverse_square_distance, intercept + slope * inverse_square_distance, 'r', label='Fitted line')\n",
    "plt.xlabel('Inverse Square of Distance (1/m^2)')\n",
    "plt.ylabel('Corrected Count Rate (counts/s)')\n",
    "plt.title('Verification of the Inverse Square Law with Background Correction')\n",
    "plt.legend()\n",
    "plt.show()\n",
    "\n",
    "# Display regression results\n",
    "print(f\"Slope (proportional to intensity): {slope:.4f}\")\n",
    "print(f\"Intercept: {intercept:.4f}\")\n",
    "print(f\"R-squared value: {r_value**2:.4f}\")\n",
    "print(f\"p-value of the regression: {p_value:.4f}\")\n",
    "print(f\"Standard error of the estimate: {std_err:.4f}\")\n"
   ]
  },
  {
   "cell_type": "markdown",
   "metadata": {},
   "source": [
    "## Conclusion\n",
    "\n",
    "The regression analysis, incorporating background radiation correction, provides a quantitative basis for assessing the experiment's adherence to the inverse square law. An `R-squared` value close to 1 suggests strong alignment with theoretical expectations, highlighting the experiment's success.\n"
   ]
  },
  {
   "cell_type": "code",
   "execution_count": 16,
   "metadata": {},
   "outputs": [
    {
     "name": "stdout",
     "output_type": "stream",
     "text": [
      "The data strongly supports the inverse square law.\n"
     ]
    }
   ],
   "source": [
    "if r_value**2 > 0.9:\n",
    "    print(\"The data strongly supports the inverse square law.\")\n",
    "else:\n",
    "    print(\"The data does not strongly support the inverse square law.\")\n"
   ]
  }
 ],
 "metadata": {
  "kernelspec": {
   "display_name": "Python 3",
   "language": "python",
   "name": "python3"
  },
  "language_info": {
   "codemirror_mode": {
    "name": "ipython",
    "version": 3
   },
   "file_extension": ".py",
   "mimetype": "text/x-python",
   "name": "python",
   "nbconvert_exporter": "python",
   "pygments_lexer": "ipython3",
   "version": "3.11.1"
  }
 },
 "nbformat": 4,
 "nbformat_minor": 2
}
