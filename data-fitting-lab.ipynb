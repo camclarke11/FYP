{
 "cells": [
  {
   "cell_type": "markdown",
   "metadata": {},
   "source": [
    "# Verification of the Inverse Square Law Using Linear Regression\n",
    "\n",
    "## Introduction\n",
    "\n",
    "This notebook embarks on a scientific journey to analyze ionizing radiation data with the aim of verifying the inverse square law. Through the lens of linear regression, a fundamental statistical tool, we model the relationship between radiation intensity as a function of distance from the source. Linear regression helps us understand how variables correlate, laying the groundwork for predicting outcomes. By applying the `linregress` function from the `scipy.stats` module, we'll engage with the data in a meaningful way, uncovering the underlying patterns that adhere to the physical laws governing radiation.\n"
   ]
  }
 ],
 "metadata": {
  "kernelspec": {
   "display_name": "Python 3",
   "language": "python",
   "name": "python3"
  },
  "language_info": {
   "codemirror_mode": {
    "name": "ipython",
    "version": 3
   },
   "file_extension": ".py",
   "mimetype": "text/x-python",
   "name": "python",
   "nbconvert_exporter": "python",
   "pygments_lexer": "ipython3",
   "version": "3.11.1"
  }
 },
 "nbformat": 4,
 "nbformat_minor": 2
}
